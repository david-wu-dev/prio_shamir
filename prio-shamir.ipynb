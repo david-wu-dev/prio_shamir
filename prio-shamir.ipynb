{
 "cells": [
  {
   "cell_type": "code",
   "execution_count": 163,
   "id": "51cfe6f3",
   "metadata": {},
   "outputs": [],
   "source": [
    "import random\n",
    "from scipy.interpolate import lagrange\n",
    "from numpy.polynomial.polynomial import Polynomial\n",
    "\n",
    "class Server:\n",
    "    def __init__(self, x_val, prime):\n",
    "        self.x_val = x_val\n",
    "        self.prime = prime\n",
    "        self.shares = [0, 0, 0]\n",
    "    \n",
    "    def add_input(self, new_shares):\n",
    "        for i in range(len(self.shares)):\n",
    "            self.shares[i] += new_shares[i]\n",
    "        \n",
    "    def verify_input(self, new_shares, other_x, r):\n",
    "        transform_factor = -other_x / (self.x_val - other_x)\n",
    "        transformed_shares = [transform_factor * share for share in new_shares]\n",
    "        self.H = create_h(transformed_shares, self.prime)\n",
    "        return self.H.calculate(r)\n",
    "    \n",
    "    def divide(self, a, b):\n",
    "        return self.multiply(a, pow(b, -1, self.prime))\n",
    "    \n",
    "    def multiply(self, a, b):\n",
    "        return (a * b) % self.prime\n",
    "\n",
    "class H_Function:\n",
    "    def __init__(self, f, g, l, p):\n",
    "        self.f = f\n",
    "        self.g = g\n",
    "        self.length = l\n",
    "        self.prime = p\n",
    "    \n",
    "    def calculate(self, x):\n",
    "        x_vals = [x**i for i in range(self.length)]\n",
    "        f_total = sum([x_vals[i] * self.f[i] for i in range(self.length)])\n",
    "        g_total = sum([x_vals[i] * self.g[i] for i in range(self.length)])\n",
    "        return f_total % self.prime, g_total % self.prime\n",
    "\n",
    "def generate_secret_shares(secret_val, prime):\n",
    "    rand_val = random.randint(2, 5)\n",
    "    diff = rand_val - secret_val\n",
    "    shares = [rand_val, (rand_val + diff) % prime, (rand_val + 2*diff) % prime]\n",
    "    return shares    \n",
    "\n",
    "def create_h(secret_vals, prime):\n",
    "    f = lagrange([i for i in range(1, len(secret_vals) + 1)], secret_vals)\n",
    "    g = lagrange([i for i in range(1, len(secret_vals) + 1)], [s - 1 for s in secret_vals])\n",
    "    \n",
    "    f_coeff = Polynomial(f.coef[::-1]).coef\n",
    "    g_coeff = Polynomial(g.coef[::-1]).coef\n",
    "    return H_Function(f_coeff, g_coeff, len(f_coeff), prime)\n",
    "\n",
    "def combine_shares(server_1, server_2, prime):\n",
    "    return ((server_1[0] + server_2[0]) * (server_1[1] + server_2[1] + 1)) % prime"
   ]
  },
  {
   "cell_type": "code",
   "execution_count": 215,
   "id": "84b592df",
   "metadata": {},
   "outputs": [
    {
     "name": "stdout",
     "output_type": "stream",
     "text": [
      "Secret values: [1, 1, 0]\n",
      "Shares for each secret value: [[2, 3, 4], [5, 9, 13], [3, 6, 9]]\n"
     ]
    }
   ],
   "source": [
    "prime = 29\n",
    "A = Server(1, prime)\n",
    "B = Server(2, prime)\n",
    "C = Server(3, prime)\n",
    "server_dict = {'A': (A, 1), 'B': (B, 2), 'C': (C, 3)}\n",
    "\n",
    "secrets = [random.randint(0, 1) for i in range(3)]\n",
    "secret_shares = [generate_secret_shares(s, prime) for s in secrets]\n",
    "new_shares = list(zip(secret_shares[0], secret_shares[1], secret_shares[2]))\n",
    "H = create_h(secrets, prime)\n",
    "print(f'Secret values: {secrets}')\n",
    "print(f'Shares for each secret value: {secret_shares}')"
   ]
  },
  {
   "cell_type": "code",
   "execution_count": 216,
   "id": "c25932a9",
   "metadata": {},
   "outputs": [],
   "source": [
    "SERVER_1 = 'A'\n",
    "SERVER_2 = 'B'\n",
    "r = 8"
   ]
  },
  {
   "cell_type": "code",
   "execution_count": 217,
   "id": "e848879a",
   "metadata": {},
   "outputs": [
    {
     "name": "stdout",
     "output_type": "stream",
     "text": [
      "Server 1 shares\n",
      "f(8) = 10.0\n",
      "g(8) = 9.0\n",
      "\n",
      "Server 2 shares\n",
      "f(8) = 28.0\n",
      "g(8) = 27.0\n",
      "\n",
      "Combined result: f(8)g(8) = 14.0\n"
     ]
    }
   ],
   "source": [
    "# computations in this cell to be done in a secure multiparty manner\n",
    "\n",
    "# first server performing verification step\n",
    "server, x_val = server_dict[SERVER_1]\n",
    "server1_shares = server.verify_input(new_shares[x_val-1], server_dict[SERVER_2][1], r)\n",
    "\n",
    "# second server performing verification step\n",
    "server, x_val = server_dict[SERVER_2]\n",
    "server2_shares = server.verify_input(new_shares[x_val-1], server_dict[SERVER_1][1], r)\n",
    "\n",
    "print(f'Server 1 shares\\nf({r}) = {server1_shares[0]}\\ng({r}) = {server1_shares[1]}\\n')\n",
    "print(f'Server 2 shares\\nf({r}) = {server2_shares[0]}\\ng({r}) = {server2_shares[1]}\\n')\n",
    "\n",
    "combined = combine_shares(server1_shares, server2_shares, prime)\n",
    "print(f'Combined result: f({r})g({r}) = {combined}')"
   ]
  },
  {
   "cell_type": "code",
   "execution_count": 218,
   "id": "13de7915",
   "metadata": {},
   "outputs": [
    {
     "name": "stdout",
     "output_type": "stream",
     "text": [
      "True H Function Value: H(8) = 14.0\n"
     ]
    }
   ],
   "source": [
    "x, y = H.calculate(r)\n",
    "print(f'True H Function Value: H({r}) = {(x * y) % prime}')"
   ]
  }
 ],
 "metadata": {
  "kernelspec": {
   "display_name": "Python 3",
   "language": "python",
   "name": "python3"
  },
  "language_info": {
   "codemirror_mode": {
    "name": "ipython",
    "version": 3
   },
   "file_extension": ".py",
   "mimetype": "text/x-python",
   "name": "python",
   "nbconvert_exporter": "python",
   "pygments_lexer": "ipython3",
   "version": "3.8.8"
  }
 },
 "nbformat": 4,
 "nbformat_minor": 5
}
